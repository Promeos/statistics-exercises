{
 "cells": [
  {
   "cell_type": "markdown",
   "metadata": {},
   "source": [
    "For each of the following questions, formulate a null and alternative hypothesis (be as specific as you can be), then give an example of what a true positive, true negative, type I and type II errors would look like.\n",
    "\n",
    "> Note that some of the questions are intentionally phrased in a vague way. It is your job to reword these as more precise questions that could be tested."
   ]
  },
  {
   "cell_type": "markdown",
   "metadata": {},
   "source": [
    "## 1.\n",
    "https://www.keycdn.com/support/what-is-latency\n",
    "\n",
    "### Has the network latency gone up since we switched internet service providers?"
   ]
  },
  {
   "cell_type": "markdown",
   "metadata": {},
   "source": [
    "__Null Hypothesis__: \n",
    "\n",
    "> \\$H0$ Internet service providers have no effect on network latency.\n",
    "\n",
    "__Alternative Hypothesis__:\n",
    "\n",
    "> \\$Ha$ Internet service providers effect network latency.\n",
    "\n",
    "__True Positive__: Internet service providers _do not_ effect network latency.\n",
    "> Fail to reject the Null Hypothesis\n",
    "\n",
    "__False Positive__: Internet service providers _do_ effect network latency.\n",
    "> Reject the Null Hypothesis\n",
    "\n",
    "__Type I__:\n",
    "\n",
    "> $\\alpha$ Reject \\$H0$ when Internet service providers __do not__ effect network latency.\n",
    "\n",
    "__Type II__: \n",
    "\n",
    "> $\\beta$ Accept \\$H0$ when Internet service providers __do__ effect network latency."
   ]
  },
  {
   "cell_type": "markdown",
   "metadata": {},
   "source": [
    "## 2.\n",
    "### Is the website redesign any good?"
   ]
  },
  {
   "cell_type": "markdown",
   "metadata": {},
   "source": [
    "__Null Hypothesis__: \n",
    "> \\$H0$ The website redesign has no effect on the number of daily visitors.\n",
    "\n",
    "__Alternative Hypothesis__:\n",
    "> \\$Ha$ The website redesign increased the number of daily visitors.\n",
    "\n",
    "__True Positive__: The website redesign has no effect on the number of daily visitors.\n",
    "> Fail to reject the Null Hypothesis\n",
    "\n",
    "__False Positive__: The website redesign increased the number of daily visitors.\n",
    "> Reject the Null Hypothesis\n",
    "\n",
    "__Type I__:\n",
    "> $\\alpha$ Reject \\$H0$ when the website redesign has no effect on the number of daily visitors.\n",
    "\n",
    "__Type II__: \n",
    "> $\\beta$ Accept \\$H0$ when the website redesign increased the number of daily visitors."
   ]
  },
  {
   "cell_type": "markdown",
   "metadata": {},
   "source": [
    "## 3.\n",
    "### Is our television ad driving more sales?"
   ]
  },
  {
   "cell_type": "markdown",
   "metadata": {},
   "source": [
    "__Null Hypothesis__: \n",
    "> \\$H0$ The television ad had no effect on sales this month.\n",
    "\n",
    "__Alternative Hypothesis__:\n",
    "\n",
    "> \\$Ha$ The television ad increased sales this month.\n",
    "\n",
    "__True Positive__: The television ad had no effect on sales this month.\n",
    "> Fail to reject the Null Hypothesis\n",
    "\n",
    "__False Positive__: The television ad increased sales this month.\n",
    "> Reject the Null Hypothesis\n",
    "\n",
    "__Type I__:\n",
    "> $\\alpha$ Reject \\$H0$ when the television ad had no effect on sales this month.\n",
    "\n",
    "__Type II__: \n",
    ">$\\beta$ Accept \\$H0$ when the television ad increased sales this month."
   ]
  }
 ],
 "metadata": {
  "kernelspec": {
   "display_name": "Python 3",
   "language": "python",
   "name": "python3"
  },
  "language_info": {
   "codemirror_mode": {
    "name": "ipython",
    "version": 3
   },
   "file_extension": ".py",
   "mimetype": "text/x-python",
   "name": "python",
   "nbconvert_exporter": "python",
   "pygments_lexer": "ipython3",
   "version": "3.7.6"
  }
 },
 "nbformat": 4,
 "nbformat_minor": 2
}
