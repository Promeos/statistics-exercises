{
 "cells": [
  {
   "cell_type": "code",
   "execution_count": 72,
   "metadata": {},
   "outputs": [],
   "source": [
    "import numpy as np\n",
    "import pandas as pd\n",
    "import matplotlib.pyplot as plt\n",
    "from scipy import stats\n",
    "import env"
   ]
  },
  {
   "cell_type": "code",
   "execution_count": 2,
   "metadata": {},
   "outputs": [],
   "source": [
    "# Using plt.rcParams to set a default size and font for plots in this jupyter notebook\n",
    "\n",
    "plt.rcParams['figure.figsize'] = [16.0, 8.0]\n",
    "plt.rcParams['font.size'] = 16"
   ]
  },
  {
   "cell_type": "markdown",
   "metadata": {},
   "source": [
    "# 1.\n",
    "> A bank found that the average number of cars waiting during the noon hour at a drive-up window follows a __Poisson distribution__ with a `mean` of 2 cars.\n",
    "### a.\n",
    ">__Make a chart of this distribution__ and answer these questions concerning the probability of cars waiting at the drive-up window."
   ]
  },
  {
   "cell_type": "code",
   "execution_count": 3,
   "metadata": {},
   "outputs": [],
   "source": [
    "# stats.poisson?"
   ]
  },
  {
   "cell_type": "code",
   "execution_count": 4,
   "metadata": {},
   "outputs": [],
   "source": [
    "# From the scipy library I import the stats module to create distributions\n",
    "# Observations over time are represented with a Poisson Distribution\n",
    "# mu -> mean keyword argument is set to 2 to create a distribution that models our example.\n",
    "\n",
    "number_of_cars = stats.poisson(mu=2)"
   ]
  },
  {
   "cell_type": "code",
   "execution_count": 71,
   "metadata": {},
   "outputs": [
    {
     "data": {
      "image/png": "[encoded data removed]",
      "text/plain": [
       "<Figure size 1152x576 with 1 Axes>"
      ]
     },
     "metadata": {
      "needs_background": "light"
     },
     "output_type": "display_data"
    }
   ],
   "source": [
    "# Using .rvs -> random values, we can create a set of observations. 1,000,000 observations\n",
    "# x = pd.Series(number_of_cars.rvs(1_000_000))\n",
    "\n",
    "x = np.arange(0, 12)\n",
    "y = number_of_cars.pmf(x)\n",
    "# Plot a histogram of our Poisson Distribution. Define an edgecolor to see distinct bins\n",
    "plt.bar(x, y, edgecolor='black')\n",
    "\n",
    "# Create labels to describe the data\n",
    "plt.title(\"Distribution of cars that drive up in the noon hour\")\n",
    "plt.xlabel(\"# of cars\")\n",
    "plt.ylabel(\"$P(X = x)$\")\n",
    "\n",
    "plt.xticks(np.arange(0,9))\n",
    "plt.xlim(-1,9);"
   ]
  },
  {
   "cell_type": "markdown",
   "metadata": {},
   "source": [
    "### b.\n",
    ">What is the probability that __no cars__ drive up in the noon hour?"
   ]
  },
  {
   "cell_type": "code",
   "execution_count": 6,
   "metadata": {},
   "outputs": [],
   "source": [
    "# stats.poisson?"
   ]
  },
  {
   "cell_type": "code",
   "execution_count": 7,
   "metadata": {},
   "outputs": [
    {
     "name": "stdout",
     "output_type": "stream",
     "text": [
      "The probability that no cars drive up in the noon hour: 13.53%\n"
     ]
    }
   ],
   "source": [
    "no_cars = number_of_cars.pmf(0)\n",
    "print(\"The probability that no cars drive up in the noon hour: {0:.2%}\".format(no_cars))"
   ]
  },
  {
   "cell_type": "markdown",
   "metadata": {},
   "source": [
    "### c.\n",
    ">What is the probability that __3 or more cars__ come through the drive through?"
   ]
  },
  {
   "cell_type": "code",
   "execution_count": 8,
   "metadata": {},
   "outputs": [],
   "source": [
    "# stats.poisson.sf?"
   ]
  },
  {
   "cell_type": "code",
   "execution_count": 9,
   "metadata": {},
   "outputs": [
    {
     "name": "stdout",
     "output_type": "stream",
     "text": [
      "\n",
      "The probability that more than three or more cars drive up in the noon hour: 32.33%\n",
      "\n"
     ]
    }
   ],
   "source": [
    "three_or_more_cars = number_of_cars.sf(2)\n",
    "\n",
    "print(\"\"\"\n",
    "The probability that more than three or more cars drive up in the noon hour: {0:.2%}\n",
    "\"\"\".format(three_or_more_cars))"
   ]
  },
  {
   "cell_type": "markdown",
   "metadata": {},
   "source": [
    "### d.\n",
    ">How likely is it that the drive through gets __at least 1 car__?"
   ]
  },
  {
   "cell_type": "code",
   "execution_count": 10,
   "metadata": {},
   "outputs": [
    {
     "name": "stdout",
     "output_type": "stream",
     "text": [
      "\n",
      "The probability that at least 1 car will drive up in the noon hour: 86.47%\n",
      "\n"
     ]
    }
   ],
   "source": [
    "at_least_one_car = number_of_cars.sf(0)\n",
    "\n",
    "print(\"\"\"\n",
    "The probability that at least 1 car will drive up in the noon hour: {0:.2%}\n",
    "\"\"\".format(at_least_one_car))"
   ]
  },
  {
   "cell_type": "markdown",
   "metadata": {},
   "source": [
    "# 2.\n",
    "> Grades of State University graduates are _normally distributed_ with a `mean` of 3.0 and a `standard deviation` of .3."
   ]
  },
  {
   "cell_type": "code",
   "execution_count": 11,
   "metadata": {},
   "outputs": [],
   "source": [
    "# stats.norm??"
   ]
  },
  {
   "cell_type": "code",
   "execution_count": 12,
   "metadata": {},
   "outputs": [],
   "source": [
    "gpas = stats.norm(loc=3, scale=.3)"
   ]
  },
  {
   "cell_type": "markdown",
   "metadata": {},
   "source": [
    "Calculate the following:\n",
    "### a.\n",
    "> What grade point average is required to be in the __top 5%__ of the graduating class?"
   ]
  },
  {
   "cell_type": "code",
   "execution_count": 13,
   "metadata": {},
   "outputs": [
    {
     "name": "stdout",
     "output_type": "stream",
     "text": [
      "\n",
      "A GPA of 3.493 is required to be in the top 5% of the graduating class.\n",
      "\n"
     ]
    }
   ],
   "source": [
    "top_5_pct = gpas.isf(.05)\n",
    "\n",
    "print(\"\"\"\n",
    "A GPA of {0:.3f} is required to be in the top 5% of the graduating class.\n",
    "\"\"\".format(top_5_pct))"
   ]
  },
  {
   "cell_type": "markdown",
   "metadata": {},
   "source": [
    "### b.\n",
    "> What GPA constitutes the __bottom 15%__ of the class?"
   ]
  },
  {
   "cell_type": "code",
   "execution_count": 14,
   "metadata": {},
   "outputs": [
    {
     "name": "stdout",
     "output_type": "stream",
     "text": [
      "\n",
      "A GPA of 2.689 constitutes the bottom 15% of the graduating class.\n",
      "\n"
     ]
    }
   ],
   "source": [
    "bottom_15_pct = gpas.ppf(.15)\n",
    "\n",
    "print(\"\"\"\n",
    "A GPA of {0:.3f} constitutes the bottom 15% of the graduating class.\n",
    "\"\"\".format(bottom_15_pct))"
   ]
  },
  {
   "cell_type": "markdown",
   "metadata": {},
   "source": [
    "### c.\n",
    "> An eccentric alumnus left scholarship money for students in the __third decile from the bottom__ of their class. __Determine the range of the third decile__. \n",
    "\n",
    "> Would a student with a 2.8 grade point average qualify for this scholarship?"
   ]
  },
  {
   "cell_type": "code",
   "execution_count": 15,
   "metadata": {},
   "outputs": [
    {
     "name": "stdout",
     "output_type": "stream",
     "text": [
      "\n",
      "A GPA between 2.748 and 2.843 is required to qualify for the scholarship.\n",
      "\n",
      "A student with a GPA of 2.8 qualifies for this scholarship.\n"
     ]
    }
   ],
   "source": [
    "s_upper_limit = gpas.ppf(.3)\n",
    "s_lower_limit = gpas.ppf(.2)\n",
    "\n",
    "print(\"\"\"\n",
    "A GPA between {0:.3f} and {1:.3f} is required to qualify for the scholarship.\n",
    "\"\"\".format(s_lower_limit, s_upper_limit))\n",
    "print(\"A student with a GPA of 2.8 qualifies for this scholarship.\")"
   ]
  },
  {
   "cell_type": "markdown",
   "metadata": {},
   "source": [
    "### d.\n",
    ">If I have a GPA of 3.5, what percentile am I in?"
   ]
  },
  {
   "cell_type": "code",
   "execution_count": 16,
   "metadata": {},
   "outputs": [
    {
     "name": "stdout",
     "output_type": "stream",
     "text": [
      "\n",
      "A GPA of 3.5 is in the 95th percentile.\n",
      "\n"
     ]
    }
   ],
   "source": [
    "gpa = 3.5\n",
    "gpa_percentile = gpas.cdf(gpa)\n",
    "print(\"\"\"\n",
    "A GPA of {0:.1f} is in the {1:0.0f}th percentile.\n",
    "\"\"\".format(gpa, gpa_percentile*100))"
   ]
  },
  {
   "cell_type": "markdown",
   "metadata": {},
   "source": [
    "## 3.\n",
    "> A marketing website has an average click-through rate of 2%. One day they observe 4326 visitors and 97 click-throughs. How likely is it that this many people or more click through?"
   ]
  },
  {
   "cell_type": "code",
   "execution_count": 17,
   "metadata": {},
   "outputs": [],
   "source": [
    "# stats.binom?"
   ]
  },
  {
   "cell_type": "code",
   "execution_count": 18,
   "metadata": {},
   "outputs": [],
   "source": [
    "marketing = stats.binom(n=4326, p=.02)"
   ]
  },
  {
   "cell_type": "code",
   "execution_count": 19,
   "metadata": {},
   "outputs": [
    {
     "name": "stdout",
     "output_type": "stream",
     "text": [
      "\n",
      "The probability that 97 or more visitors click-through: 13.98%\n",
      "\n"
     ]
    }
   ],
   "source": [
    "p_clicks = marketing.sf(96)\n",
    "\n",
    "print(\"\"\"\n",
    "The probability that 97 or more visitors click-through: {:.2%}\n",
    "\"\"\".format(p_clicks))"
   ]
  },
  {
   "cell_type": "markdown",
   "metadata": {},
   "source": [
    "## 4.\n",
    "> You are working on some statistics homework consisting of 100 questions where all of the answers are a probability rounded to the `hundreths` place. Looking to save time, you put down random probabilities as the answer to each question."
   ]
  },
  {
   "cell_type": "code",
   "execution_count": 52,
   "metadata": {},
   "outputs": [],
   "source": [
    "homework = stats.binom(n=60, p=.01)"
   ]
  },
  {
   "cell_type": "markdown",
   "metadata": {},
   "source": [
    ">What is the probability that at least one of your first 60 answers is correct?"
   ]
  },
  {
   "cell_type": "code",
   "execution_count": 53,
   "metadata": {},
   "outputs": [
    {
     "name": "stdout",
     "output_type": "stream",
     "text": [
      "\n",
      "The probability that at least one of the first 60 answers is correct: 45.28%\n",
      "\n"
     ]
    }
   ],
   "source": [
    "at_least_one_correct = homework.sf(0)\n",
    "\n",
    "print(\"\"\"\n",
    "The probability that at least one of the first 60 answers is correct: {:.2%}\n",
    "\"\"\".format(at_least_one_correct))"
   ]
  },
  {
   "cell_type": "markdown",
   "metadata": {},
   "source": [
    "## 5.\n",
    "> The codeup staff tends to get upset when the student break area is not cleaned up. Suppose that there's a 3% chance that any one student cleans the break area when they visit it, and, on any given day, about 90% of the 3 active cohorts of 22 students visit the break area. "
   ]
  },
  {
   "cell_type": "code",
   "execution_count": 22,
   "metadata": {},
   "outputs": [],
   "source": [
    "prob_clean = .03\n",
    "students = round(.90 * 3 * 22)\n",
    "break_area = stats.binom(students, prob_clean)"
   ]
  },
  {
   "cell_type": "markdown",
   "metadata": {},
   "source": [
    "> How likely is it that the break area gets cleaned up each day?"
   ]
  },
  {
   "cell_type": "code",
   "execution_count": 23,
   "metadata": {},
   "outputs": [
    {
     "name": "stdout",
     "output_type": "stream",
     "text": [
      "\n",
      "The probability that at the break area is cleaned each day: 83.42%\n",
      "\n"
     ]
    }
   ],
   "source": [
    "clean_day = break_area.sf(0)\n",
    "\n",
    "print(\"\"\"\n",
    "The probability that at the break area is cleaned each day: {:.2%}\n",
    "\"\"\".format(clean_day))"
   ]
  },
  {
   "cell_type": "markdown",
   "metadata": {},
   "source": [
    "> How likely is it that it goes two days without getting cleaned up?"
   ]
  },
  {
   "cell_type": "code",
   "execution_count": 24,
   "metadata": {},
   "outputs": [
    {
     "name": "stdout",
     "output_type": "stream",
     "text": [
      "\n",
      "The probability that the break area is not cleaned for two days: 2.75%\n",
      "\n"
     ]
    }
   ],
   "source": [
    "two_days = stats.binom(students*2, prob_clean)\n",
    "two_unclean = 1 - two_days.sf(0)\n",
    "\n",
    "print(\"\"\"\n",
    "The probability that the break area is not cleaned for two days: {:.2%}\n",
    "\"\"\".format(two_unclean))"
   ]
  },
  {
   "cell_type": "markdown",
   "metadata": {},
   "source": [
    "> All week?"
   ]
  },
  {
   "cell_type": "code",
   "execution_count": 25,
   "metadata": {},
   "outputs": [
    {
     "name": "stdout",
     "output_type": "stream",
     "text": [
      "\n",
      "The probability that at the break area is not cleaned for a week: 0.01%\n",
      "\n"
     ]
    }
   ],
   "source": [
    "week = stats.binom(students * 5, prob_clean)\n",
    "week_unclean = 1 - week.sf(0)\n",
    "\n",
    "print(\"\"\"\n",
    "The probability that at the break area is not cleaned for a week: {:.2%}\n",
    "\"\"\".format(week_unclean))"
   ]
  },
  {
   "cell_type": "markdown",
   "metadata": {},
   "source": [
    "## 6.\n",
    "> You want to get lunch at La Panaderia, but notice that the line is usually very long at lunchtime. After several weeks of careful observation, you notice that the average number of people in line when your lunch break starts is __normally distributed__ with a `mean` of 15 and `standard deviation` of 3.\n",
    "\n",
    ">If it takes 2 minutes for each person to order, and 10 minutes from ordering to getting your food, what is the likelihood that you have at least 15 minutes left to eat your food before you have to go back to class? \n",
    "\n",
    "> Assume you have one hour for lunch, and ignore travel time to and from La Panaderia."
   ]
  },
  {
   "cell_type": "code",
   "execution_count": 157,
   "metadata": {},
   "outputs": [
    {
     "name": "stdout",
     "output_type": "stream",
     "text": [
      "\n",
      "The probability that I will have at least 15 minutes to eat before class: 79.76%\n",
      "\n"
     ]
    }
   ],
   "source": [
    "prob_lunch = ((60-((stats.norm(loc=15, scale=3).rvs(100_000)*2) + 10)) >= 15).mean()\n",
    "\n",
    "print(\"\"\"\n",
    "The probability that I will have at least 15 minutes to eat before class: {:.2%}\n",
    "\"\"\".format(prob_lunch))"
   ]
  },
  {
   "cell_type": "code",
   "execution_count": 158,
   "metadata": {},
   "outputs": [
    {
     "name": "stdout",
     "output_type": "stream",
     "text": [
      "\n",
      "The probability that I will have at least 15 minutes to eat before class: 79.77%\n",
      "\n"
     ]
    }
   ],
   "source": [
    "mu_minutes = 15 * 2\n",
    "sd_minutes = 3 * 2\n",
    "lunch_minutes = 60\n",
    "food_prep_minutes = 10\n",
    "eat_minutes = 15\n",
    "\n",
    "allotted_time = lunch_minutes - food_prep_minutes - eat_minutes\n",
    "lunch = stats.norm(mu_minutes, sd_minutes)\n",
    "prob_lunch = lunch.cdf(allotted_time)\n",
    "\n",
    "print(\"\"\"\n",
    "The probability that I will have at least 15 minutes to eat before class: {:.2%}\n",
    "\"\"\".format(prob_lunch))"
   ]
  },
  {
   "cell_type": "markdown",
   "metadata": {},
   "source": [
    "## 7.\n",
    "> Connect to the `employees database` and find the __average salary of current employees__, along with the __standard deviation__. For the following questions, calculate the answer based on modeling the employees salaries with a __normal distribution__ defined by the calculated `mean` and `standard deviation` then _compare_ this answer to the actual values present in the `salaries` dataset."
   ]
  },
  {
   "cell_type": "code",
   "execution_count": 76,
   "metadata": {},
   "outputs": [],
   "source": [
    "# url = f'mysql+pymysql://{env.user}:{env.password}@{env.host}/employees'\n",
    "    \n",
    "# salaries = pd.read_sql(\"\"\"\n",
    "# select *\n",
    "# from salaries\n",
    "# where to_date > now()\"\"\",url)\n",
    "# salaries.to_csv('current_salaries.csv')"
   ]
  },
  {
   "cell_type": "code",
   "execution_count": 87,
   "metadata": {},
   "outputs": [],
   "source": [
    "# stats.norm?"
   ]
  },
  {
   "cell_type": "code",
   "execution_count": 117,
   "metadata": {},
   "outputs": [],
   "source": [
    "df_c_salaries = pd.read_csv('current_salaries.csv')"
   ]
  },
  {
   "cell_type": "code",
   "execution_count": 118,
   "metadata": {},
   "outputs": [],
   "source": [
    "mu = df_c_salaries.salary.mean()\n",
    "sd =df_c_salaries.salary.std()\n",
    "c_salaries = stats.norm(loc=mu,scale=sd)"
   ]
  },
  {
   "cell_type": "markdown",
   "metadata": {},
   "source": [
    ">What percent of employees earn less than 60,000?"
   ]
  },
  {
   "cell_type": "code",
   "execution_count": 123,
   "metadata": {},
   "outputs": [
    {
     "name": "stdout",
     "output_type": "stream",
     "text": [
      "\n",
      "24.39% of employees earn less than $60,000\n",
      "\n"
     ]
    }
   ],
   "source": [
    "less_than_60k = c_salaries.cdf(60000)\n",
    "\n",
    "print(\"\"\"\n",
    "{:.2%} of employees earn less than $60,000\n",
    "\"\"\".format(less_than_60k))"
   ]
  },
  {
   "cell_type": "markdown",
   "metadata": {},
   "source": [
    ">What percent of employees earn more than 95,000?"
   ]
  },
  {
   "cell_type": "code",
   "execution_count": 120,
   "metadata": {},
   "outputs": [
    {
     "name": "stdout",
     "output_type": "stream",
     "text": [
      "\n",
      "9.21% of employees earn more than $95,000\n",
      "\n"
     ]
    }
   ],
   "source": [
    "more_than_95k = c_salaries.sf(95000)\n",
    "\n",
    "print(\"\"\"\n",
    "{:.2%} of employees earn more than $95,000\n",
    "\"\"\".format(more_than_95k))"
   ]
  },
  {
   "cell_type": "markdown",
   "metadata": {},
   "source": [
    ">What percent of employees earn between 65,000 and 80,000?"
   ]
  },
  {
   "cell_type": "code",
   "execution_count": 124,
   "metadata": {},
   "outputs": [
    {
     "name": "stdout",
     "output_type": "stream",
     "text": [
      "\n",
      "33.51% of employees earn between $65,000 and $80,000\n",
      "\n"
     ]
    }
   ],
   "source": [
    "between_65k_and_80k = np.diff(c_salaries.cdf([65000,80000]))[0]\n",
    "\n",
    "print(\"\"\"\n",
    "{:.2%} of employees earn between $65,000 and $80,000\n",
    "\"\"\".format(between_65k_and_80k))"
   ]
  },
  {
   "cell_type": "markdown",
   "metadata": {},
   "source": [
    ">What do the top 5% of employees make?"
   ]
  },
  {
   "cell_type": "code",
   "execution_count": 139,
   "metadata": {},
   "outputs": [
    {
     "name": "stdout",
     "output_type": "stream",
     "text": [
      "\n",
      "The top 5% of employees earn between $100,484.64 and $158,220.00\n",
      "\n"
     ]
    }
   ],
   "source": [
    "upper_limit = df_c_salaries.salary.max()\n",
    "lower_limit = c_salaries.isf(.05)\n",
    "\n",
    "print(\"\"\"\n",
    "The top 5% of employees earn between ${:,.2f} and ${:,.2f}\n",
    "\"\"\".format(lower_limit, upper_limit))"
   ]
  }
 ],
 "metadata": {
  "kernelspec": {
   "display_name": "Python 3",
   "language": "python",
   "name": "python3"
  },
  "language_info": {
   "codemirror_mode": {
    "name": "ipython",
    "version": 3
   },
   "file_extension": ".py",
   "mimetype": "text/x-python",
   "name": "python",
   "nbconvert_exporter": "python",
   "pygments_lexer": "ipython3",
   "version": "3.7.6"
  }
 },
 "nbformat": 4,
 "nbformat_minor": 4
}
